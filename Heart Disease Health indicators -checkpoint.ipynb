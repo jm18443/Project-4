{
 "cells": [
  {
   "cell_type": "code",
   "execution_count": 2,
   "id": "d2c6106c",
   "metadata": {},
   "outputs": [
    {
     "name": "stdout",
     "output_type": "stream",
     "text": [
      "Collecting imblearn\n",
      "  Downloading imblearn-0.0-py2.py3-none-any.whl (1.9 kB)\n",
      "Collecting imbalanced-learn\n",
      "  Downloading imbalanced_learn-0.10.1-py3-none-any.whl (226 kB)\n",
      "     -------------------------------------- 226.0/226.0 kB 4.6 MB/s eta 0:00:00\n",
      "Requirement already satisfied: numpy>=1.17.3 in c:\\users\\cocoa\\anaconda3\\lib\\site-packages (from imbalanced-learn->imblearn) (1.21.5)\n",
      "Requirement already satisfied: scipy>=1.3.2 in c:\\users\\cocoa\\anaconda3\\lib\\site-packages (from imbalanced-learn->imblearn) (1.9.1)\n",
      "Collecting joblib>=1.1.1\n",
      "  Downloading joblib-1.2.0-py3-none-any.whl (297 kB)\n",
      "     -------------------------------------- 298.0/298.0 kB 9.3 MB/s eta 0:00:00\n",
      "Requirement already satisfied: scikit-learn>=1.0.2 in c:\\users\\cocoa\\anaconda3\\lib\\site-packages (from imbalanced-learn->imblearn) (1.0.2)\n",
      "Requirement already satisfied: threadpoolctl>=2.0.0 in c:\\users\\cocoa\\anaconda3\\lib\\site-packages (from imbalanced-learn->imblearn) (2.2.0)\n",
      "Installing collected packages: joblib, imbalanced-learn, imblearn\n",
      "  Attempting uninstall: joblib\n",
      "    Found existing installation: joblib 1.1.0\n",
      "    Uninstalling joblib-1.1.0:\n",
      "      Successfully uninstalled joblib-1.1.0\n",
      "Successfully installed imbalanced-learn-0.10.1 imblearn-0.0 joblib-1.2.0\n"
     ]
    }
   ],
   "source": [
    "!pip install imblearn"
   ]
  },
  {
   "cell_type": "code",
   "execution_count": 5,
   "id": "efe651e3",
   "metadata": {},
   "outputs": [
    {
     "name": "stdout",
     "output_type": "stream",
     "text": [
      "Collecting xgboost\n",
      "  Downloading xgboost-1.7.4-py3-none-win_amd64.whl (89.1 MB)\n",
      "     --------------------------------------- 89.1/89.1 MB 20.4 MB/s eta 0:00:00\n",
      "Requirement already satisfied: numpy in c:\\users\\cocoa\\anaconda3\\lib\\site-packages (from xgboost) (1.21.5)\n",
      "Requirement already satisfied: scipy in c:\\users\\cocoa\\anaconda3\\lib\\site-packages (from xgboost) (1.9.1)\n",
      "Installing collected packages: xgboost\n",
      "Successfully installed xgboost-1.7.4\n"
     ]
    }
   ],
   "source": [
    "!pip install xgboost"
   ]
  },
  {
   "cell_type": "code",
   "execution_count": 6,
   "id": "0372990e",
   "metadata": {},
   "outputs": [],
   "source": [
    "from sklearn.metrics import confusion_matrix,accuracy_score,recall_score,precision_score,f1_score,fbeta_score,classification_report\n",
    "from sklearn.model_selection import train_test_split\n",
    "from sklearn.linear_model import LogisticRegression\n",
    "from sklearn.ensemble import RandomForestClassifier\n",
    "from sklearn.neighbors import KNeighborsClassifier\n",
    "from sklearn.tree import DecisionTreeClassifier\n",
    "from sklearn.naive_bayes import GaussianNB\n",
    "from imblearn.over_sampling import SMOTE\n",
    "from xgboost import XGBClassifier\n",
    "from sklearn.svm import SVC\n",
    "import seaborn as sns\n",
    "import pandas as pd\n",
    "import numpy as np\n",
    "import sklearn"
   ]
  },
  {
   "cell_type": "code",
   "execution_count": 8,
   "id": "8f14c9e8",
   "metadata": {},
   "outputs": [],
   "source": [
    "df = pd.read_csv(\"2015.csv\")"
   ]
  },
  {
   "cell_type": "code",
   "execution_count": 9,
   "id": "d679b488",
   "metadata": {
    "scrolled": true
   },
   "outputs": [
    {
     "data": {
      "text/plain": [
       "Index(['_STATE', 'FMONTH', 'IDATE', 'IMONTH', 'IDAY', 'IYEAR', 'DISPCODE',\n",
       "       'SEQNO', '_PSU', 'CTELENUM',\n",
       "       ...\n",
       "       '_PAREC1', '_PASTAE1', '_LMTACT1', '_LMTWRK1', '_LMTSCL1', '_RFSEAT2',\n",
       "       '_RFSEAT3', '_FLSHOT6', '_PNEUMO2', '_AIDTST3'],\n",
       "      dtype='object', length=330)"
      ]
     },
     "execution_count": 9,
     "metadata": {},
     "output_type": "execute_result"
    }
   ],
   "source": [
    "df.columns"
   ]
  },
  {
   "cell_type": "code",
   "execution_count": 10,
   "id": "c200e977",
   "metadata": {},
   "outputs": [
    {
     "data": {
      "text/html": [
       "<div>\n",
       "<style scoped>\n",
       "    .dataframe tbody tr th:only-of-type {\n",
       "        vertical-align: middle;\n",
       "    }\n",
       "\n",
       "    .dataframe tbody tr th {\n",
       "        vertical-align: top;\n",
       "    }\n",
       "\n",
       "    .dataframe thead th {\n",
       "        text-align: right;\n",
       "    }\n",
       "</style>\n",
       "<table border=\"1\" class=\"dataframe\">\n",
       "  <thead>\n",
       "    <tr style=\"text-align: right;\">\n",
       "      <th></th>\n",
       "      <th>_STATE</th>\n",
       "      <th>FMONTH</th>\n",
       "      <th>DISPCODE</th>\n",
       "      <th>SEQNO</th>\n",
       "      <th>_PSU</th>\n",
       "      <th>CTELENUM</th>\n",
       "      <th>PVTRESD1</th>\n",
       "      <th>COLGHOUS</th>\n",
       "      <th>STATERES</th>\n",
       "      <th>CELLFON3</th>\n",
       "      <th>...</th>\n",
       "      <th>_PAREC1</th>\n",
       "      <th>_PASTAE1</th>\n",
       "      <th>_LMTACT1</th>\n",
       "      <th>_LMTWRK1</th>\n",
       "      <th>_LMTSCL1</th>\n",
       "      <th>_RFSEAT2</th>\n",
       "      <th>_RFSEAT3</th>\n",
       "      <th>_FLSHOT6</th>\n",
       "      <th>_PNEUMO2</th>\n",
       "      <th>_AIDTST3</th>\n",
       "    </tr>\n",
       "  </thead>\n",
       "  <tbody>\n",
       "    <tr>\n",
       "      <th>count</th>\n",
       "      <td>441456.000000</td>\n",
       "      <td>441456.000000</td>\n",
       "      <td>441456.000000</td>\n",
       "      <td>4.414560e+05</td>\n",
       "      <td>4.414560e+05</td>\n",
       "      <td>254645.0</td>\n",
       "      <td>254645.000000</td>\n",
       "      <td>45.0</td>\n",
       "      <td>254643.0</td>\n",
       "      <td>254646.000000</td>\n",
       "      <td>...</td>\n",
       "      <td>441456.000000</td>\n",
       "      <td>441456.000000</td>\n",
       "      <td>438657.000000</td>\n",
       "      <td>438657.000000</td>\n",
       "      <td>438657.000000</td>\n",
       "      <td>441456.000000</td>\n",
       "      <td>441456.000000</td>\n",
       "      <td>157954.000000</td>\n",
       "      <td>157954.000000</td>\n",
       "      <td>398069.000000</td>\n",
       "    </tr>\n",
       "    <tr>\n",
       "      <th>mean</th>\n",
       "      <td>29.968715</td>\n",
       "      <td>6.359676</td>\n",
       "      <td>1115.040457</td>\n",
       "      <td>2.015005e+09</td>\n",
       "      <td>2.015005e+09</td>\n",
       "      <td>1.0</td>\n",
       "      <td>1.000177</td>\n",
       "      <td>1.0</td>\n",
       "      <td>1.0</td>\n",
       "      <td>1.545133</td>\n",
       "      <td>...</td>\n",
       "      <td>3.494124</td>\n",
       "      <td>2.742695</td>\n",
       "      <td>2.716879</td>\n",
       "      <td>2.815149</td>\n",
       "      <td>3.652717</td>\n",
       "      <td>1.824624</td>\n",
       "      <td>1.887028</td>\n",
       "      <td>2.290705</td>\n",
       "      <td>2.412259</td>\n",
       "      <td>1.970156</td>\n",
       "    </tr>\n",
       "    <tr>\n",
       "      <th>std</th>\n",
       "      <td>16.034710</td>\n",
       "      <td>3.487131</td>\n",
       "      <td>35.746794</td>\n",
       "      <td>4.113443e+03</td>\n",
       "      <td>4.113443e+03</td>\n",
       "      <td>0.0</td>\n",
       "      <td>0.013292</td>\n",
       "      <td>0.0</td>\n",
       "      <td>0.0</td>\n",
       "      <td>0.497960</td>\n",
       "      <td>...</td>\n",
       "      <td>2.398322</td>\n",
       "      <td>2.449676</td>\n",
       "      <td>1.324145</td>\n",
       "      <td>1.356101</td>\n",
       "      <td>1.266730</td>\n",
       "      <td>2.360812</td>\n",
       "      <td>2.351387</td>\n",
       "      <td>2.518086</td>\n",
       "      <td>2.778032</td>\n",
       "      <td>1.441119</td>\n",
       "    </tr>\n",
       "    <tr>\n",
       "      <th>min</th>\n",
       "      <td>1.000000</td>\n",
       "      <td>1.000000</td>\n",
       "      <td>1100.000000</td>\n",
       "      <td>2.015000e+09</td>\n",
       "      <td>2.015000e+09</td>\n",
       "      <td>1.0</td>\n",
       "      <td>1.000000</td>\n",
       "      <td>1.0</td>\n",
       "      <td>1.0</td>\n",
       "      <td>1.000000</td>\n",
       "      <td>...</td>\n",
       "      <td>1.000000</td>\n",
       "      <td>1.000000</td>\n",
       "      <td>1.000000</td>\n",
       "      <td>1.000000</td>\n",
       "      <td>1.000000</td>\n",
       "      <td>1.000000</td>\n",
       "      <td>1.000000</td>\n",
       "      <td>1.000000</td>\n",
       "      <td>1.000000</td>\n",
       "      <td>1.000000</td>\n",
       "    </tr>\n",
       "    <tr>\n",
       "      <th>25%</th>\n",
       "      <td>19.000000</td>\n",
       "      <td>3.000000</td>\n",
       "      <td>1100.000000</td>\n",
       "      <td>2.015002e+09</td>\n",
       "      <td>2.015002e+09</td>\n",
       "      <td>1.0</td>\n",
       "      <td>1.000000</td>\n",
       "      <td>1.0</td>\n",
       "      <td>1.0</td>\n",
       "      <td>1.000000</td>\n",
       "      <td>...</td>\n",
       "      <td>2.000000</td>\n",
       "      <td>2.000000</td>\n",
       "      <td>2.000000</td>\n",
       "      <td>2.000000</td>\n",
       "      <td>3.000000</td>\n",
       "      <td>1.000000</td>\n",
       "      <td>1.000000</td>\n",
       "      <td>1.000000</td>\n",
       "      <td>1.000000</td>\n",
       "      <td>1.000000</td>\n",
       "    </tr>\n",
       "    <tr>\n",
       "      <th>50%</th>\n",
       "      <td>29.000000</td>\n",
       "      <td>6.000000</td>\n",
       "      <td>1100.000000</td>\n",
       "      <td>2.015004e+09</td>\n",
       "      <td>2.015004e+09</td>\n",
       "      <td>1.0</td>\n",
       "      <td>1.000000</td>\n",
       "      <td>1.0</td>\n",
       "      <td>1.0</td>\n",
       "      <td>2.000000</td>\n",
       "      <td>...</td>\n",
       "      <td>3.000000</td>\n",
       "      <td>2.000000</td>\n",
       "      <td>3.000000</td>\n",
       "      <td>3.000000</td>\n",
       "      <td>4.000000</td>\n",
       "      <td>1.000000</td>\n",
       "      <td>1.000000</td>\n",
       "      <td>1.000000</td>\n",
       "      <td>1.000000</td>\n",
       "      <td>2.000000</td>\n",
       "    </tr>\n",
       "    <tr>\n",
       "      <th>75%</th>\n",
       "      <td>44.000000</td>\n",
       "      <td>9.000000</td>\n",
       "      <td>1100.000000</td>\n",
       "      <td>2.015007e+09</td>\n",
       "      <td>2.015007e+09</td>\n",
       "      <td>1.0</td>\n",
       "      <td>1.000000</td>\n",
       "      <td>1.0</td>\n",
       "      <td>1.0</td>\n",
       "      <td>2.000000</td>\n",
       "      <td>...</td>\n",
       "      <td>4.000000</td>\n",
       "      <td>2.000000</td>\n",
       "      <td>3.000000</td>\n",
       "      <td>3.000000</td>\n",
       "      <td>4.000000</td>\n",
       "      <td>1.000000</td>\n",
       "      <td>1.000000</td>\n",
       "      <td>2.000000</td>\n",
       "      <td>2.000000</td>\n",
       "      <td>2.000000</td>\n",
       "    </tr>\n",
       "    <tr>\n",
       "      <th>max</th>\n",
       "      <td>72.000000</td>\n",
       "      <td>12.000000</td>\n",
       "      <td>1200.000000</td>\n",
       "      <td>2.015023e+09</td>\n",
       "      <td>2.015023e+09</td>\n",
       "      <td>1.0</td>\n",
       "      <td>2.000000</td>\n",
       "      <td>1.0</td>\n",
       "      <td>1.0</td>\n",
       "      <td>2.000000</td>\n",
       "      <td>...</td>\n",
       "      <td>9.000000</td>\n",
       "      <td>9.000000</td>\n",
       "      <td>9.000000</td>\n",
       "      <td>9.000000</td>\n",
       "      <td>9.000000</td>\n",
       "      <td>9.000000</td>\n",
       "      <td>9.000000</td>\n",
       "      <td>9.000000</td>\n",
       "      <td>9.000000</td>\n",
       "      <td>9.000000</td>\n",
       "    </tr>\n",
       "  </tbody>\n",
       "</table>\n",
       "<p>8 rows × 323 columns</p>\n",
       "</div>"
      ],
      "text/plain": [
       "              _STATE         FMONTH       DISPCODE         SEQNO  \\\n",
       "count  441456.000000  441456.000000  441456.000000  4.414560e+05   \n",
       "mean       29.968715       6.359676    1115.040457  2.015005e+09   \n",
       "std        16.034710       3.487131      35.746794  4.113443e+03   \n",
       "min         1.000000       1.000000    1100.000000  2.015000e+09   \n",
       "25%        19.000000       3.000000    1100.000000  2.015002e+09   \n",
       "50%        29.000000       6.000000    1100.000000  2.015004e+09   \n",
       "75%        44.000000       9.000000    1100.000000  2.015007e+09   \n",
       "max        72.000000      12.000000    1200.000000  2.015023e+09   \n",
       "\n",
       "               _PSU  CTELENUM       PVTRESD1  COLGHOUS  STATERES  \\\n",
       "count  4.414560e+05  254645.0  254645.000000      45.0  254643.0   \n",
       "mean   2.015005e+09       1.0       1.000177       1.0       1.0   \n",
       "std    4.113443e+03       0.0       0.013292       0.0       0.0   \n",
       "min    2.015000e+09       1.0       1.000000       1.0       1.0   \n",
       "25%    2.015002e+09       1.0       1.000000       1.0       1.0   \n",
       "50%    2.015004e+09       1.0       1.000000       1.0       1.0   \n",
       "75%    2.015007e+09       1.0       1.000000       1.0       1.0   \n",
       "max    2.015023e+09       1.0       2.000000       1.0       1.0   \n",
       "\n",
       "            CELLFON3  ...        _PAREC1       _PASTAE1       _LMTACT1  \\\n",
       "count  254646.000000  ...  441456.000000  441456.000000  438657.000000   \n",
       "mean        1.545133  ...       3.494124       2.742695       2.716879   \n",
       "std         0.497960  ...       2.398322       2.449676       1.324145   \n",
       "min         1.000000  ...       1.000000       1.000000       1.000000   \n",
       "25%         1.000000  ...       2.000000       2.000000       2.000000   \n",
       "50%         2.000000  ...       3.000000       2.000000       3.000000   \n",
       "75%         2.000000  ...       4.000000       2.000000       3.000000   \n",
       "max         2.000000  ...       9.000000       9.000000       9.000000   \n",
       "\n",
       "            _LMTWRK1       _LMTSCL1       _RFSEAT2       _RFSEAT3  \\\n",
       "count  438657.000000  438657.000000  441456.000000  441456.000000   \n",
       "mean        2.815149       3.652717       1.824624       1.887028   \n",
       "std         1.356101       1.266730       2.360812       2.351387   \n",
       "min         1.000000       1.000000       1.000000       1.000000   \n",
       "25%         2.000000       3.000000       1.000000       1.000000   \n",
       "50%         3.000000       4.000000       1.000000       1.000000   \n",
       "75%         3.000000       4.000000       1.000000       1.000000   \n",
       "max         9.000000       9.000000       9.000000       9.000000   \n",
       "\n",
       "            _FLSHOT6       _PNEUMO2       _AIDTST3  \n",
       "count  157954.000000  157954.000000  398069.000000  \n",
       "mean        2.290705       2.412259       1.970156  \n",
       "std         2.518086       2.778032       1.441119  \n",
       "min         1.000000       1.000000       1.000000  \n",
       "25%         1.000000       1.000000       1.000000  \n",
       "50%         1.000000       1.000000       2.000000  \n",
       "75%         2.000000       2.000000       2.000000  \n",
       "max         9.000000       9.000000       9.000000  \n",
       "\n",
       "[8 rows x 323 columns]"
      ]
     },
     "execution_count": 10,
     "metadata": {},
     "output_type": "execute_result"
    }
   ],
   "source": [
    "df.describe()"
   ]
  },
  {
   "cell_type": "code",
   "execution_count": 12,
   "id": "6c4bf925",
   "metadata": {},
   "outputs": [
    {
     "data": {
      "text/plain": [
       "_STATE      False\n",
       "FMONTH      False\n",
       "IDATE       False\n",
       "IMONTH      False\n",
       "IDAY        False\n",
       "            ...  \n",
       "_RFSEAT2    False\n",
       "_RFSEAT3    False\n",
       "_FLSHOT6     True\n",
       "_PNEUMO2     True\n",
       "_AIDTST3     True\n",
       "Length: 330, dtype: bool"
      ]
     },
     "execution_count": 12,
     "metadata": {},
     "output_type": "execute_result"
    }
   ],
   "source": [
    "df.isnull().any()\n"
   ]
  },
  {
   "cell_type": "code",
   "execution_count": 17,
   "id": "e923c1ab",
   "metadata": {},
   "outputs": [
    {
     "data": {
      "text/plain": [
       "(0, 330)"
      ]
     },
     "execution_count": 17,
     "metadata": {},
     "output_type": "execute_result"
    }
   ],
   "source": [
    "#Drop Missing Values - knocks 100,000 rows out right away\n",
    "df = df.dropna()\n",
    "df.shape"
   ]
  },
  {
   "cell_type": "code",
   "execution_count": 20,
   "id": "3fce2adf",
   "metadata": {},
   "outputs": [
    {
     "data": {
      "text/plain": [
       "array([], dtype=float64)"
      ]
     },
     "execution_count": 20,
     "metadata": {},
     "output_type": "execute_result"
    }
   ],
   "source": [
    "# _MICHD\n",
    "#Change 2 to 0 because this means did not have MI or CHD\n",
    "df['_MICHD'] = df['_MICHD'].replace({2: 0})\n",
    "df._MICHD.unique()"
   ]
  },
  {
   "cell_type": "code",
   "execution_count": 21,
   "id": "2e846ed2",
   "metadata": {},
   "outputs": [
    {
     "data": {
      "text/plain": [
       "array([], dtype=float64)"
      ]
     },
     "execution_count": 21,
     "metadata": {},
     "output_type": "execute_result"
    }
   ],
   "source": [
    "#Change 1 to 0 so it represetnts No high blood pressure and 2 to 1 so it represents high blood pressure\n",
    "df['_RFHYPE5'] = df['_RFHYPE5'].replace({1:0, 2:1})\n",
    "df = df[df._RFHYPE5 != 9]\n",
    "df._RFHYPE5.unique()"
   ]
  },
  {
   "cell_type": "code",
   "execution_count": 22,
   "id": "295a5933",
   "metadata": {},
   "outputs": [
    {
     "data": {
      "text/plain": [
       "array([], dtype=float64)"
      ]
     },
     "execution_count": 22,
     "metadata": {},
     "output_type": "execute_result"
    }
   ],
   "source": [
    "#2 TOLDHI2\n",
    "# Change 2 to 0 because it is No\n",
    "# Remove all 7 (dont knows)\n",
    "# Remove all 9 (refused)\n",
    "df['TOLDHI2'] = df['TOLDHI2'].replace({2:0})\n",
    "df = df[df.TOLDHI2 != 7]\n",
    "df = df[df.TOLDHI2 != 9]\n",
    "df.TOLDHI2.unique()"
   ]
  },
  {
   "cell_type": "code",
   "execution_count": 23,
   "id": "e764a730",
   "metadata": {},
   "outputs": [
    {
     "data": {
      "text/plain": [
       "array([], dtype=float64)"
      ]
     },
     "execution_count": 23,
     "metadata": {},
     "output_type": "execute_result"
    }
   ],
   "source": [
    "# Change 3 to 0 and 2 to 0 for Not checked cholesterol in past 5 years\n",
    "# Remove 9\n",
    "df['_CHOLCHK'] = df['_CHOLCHK'].replace({3:0,2:0})\n",
    "df = df[df._CHOLCHK != 9]\n",
    "df._CHOLCHK.unique()"
   ]
  },
  {
   "cell_type": "code",
   "execution_count": 24,
   "id": "3031237e",
   "metadata": {},
   "outputs": [
    {
     "data": {
      "text/plain": [
       "array([], dtype=float64)"
      ]
     },
     "execution_count": 24,
     "metadata": {},
     "output_type": "execute_result"
    }
   ],
   "source": [
    "#4 _BMI5 (no changes, just note that these are BMI * 100. So for example a BMI of 4018 is really 40.18)\n",
    "df['_BMI5'] = df['_BMI5'].div(100).round(0)\n",
    "df._BMI5.unique()"
   ]
  },
  {
   "cell_type": "code",
   "execution_count": 26,
   "id": "1477b084",
   "metadata": {},
   "outputs": [
    {
     "data": {
      "text/plain": [
       "array([], dtype=float64)"
      ]
     },
     "execution_count": 26,
     "metadata": {},
     "output_type": "execute_result"
    }
   ],
   "source": [
    "#5 SMOKE100\n",
    "# Change 2 to 0 because it is No\n",
    "# Remove all 7 (dont knows)\n",
    "# Remove all 9 (refused)\n",
    "df['SMOKE100'] = df['SMOKE100'].replace({2:0})\n",
    "df = df[df.SMOKE100 != 7]\n",
    "df = df[df.SMOKE100 != 9]\n",
    "df.SMOKE100.unique()"
   ]
  },
  {
   "cell_type": "code",
   "execution_count": 27,
   "id": "2327a287",
   "metadata": {},
   "outputs": [
    {
     "data": {
      "text/plain": [
       "array([], dtype=float64)"
      ]
     },
     "execution_count": 27,
     "metadata": {},
     "output_type": "execute_result"
    }
   ],
   "source": [
    "# Change 2 to 0 because it is No\n",
    "# Remove all 7 (dont knows)\n",
    "# Remove all 9 (refused)\n",
    "df['CVDSTRK3'] = df['CVDSTRK3'].replace({2:0})\n",
    "df = df[df.CVDSTRK3 != 7]\n",
    "df = df[df.CVDSTRK3 != 9]\n",
    "df.CVDSTRK3.unique()"
   ]
  },
  {
   "cell_type": "code",
   "execution_count": 28,
   "id": "0a1cbc59",
   "metadata": {},
   "outputs": [
    {
     "data": {
      "text/plain": [
       "array([], dtype=float64)"
      ]
     },
     "execution_count": 28,
     "metadata": {},
     "output_type": "execute_result"
    }
   ],
   "source": [
    "# going to make this ordinal. 0 is for no diabetes or only during pregnancy, 1 is for pre-diabetes or borderline diabetes, 2 is for yes diabetes\n",
    "# Remove all 7 (dont knows)\n",
    "# Remove all 9 (refused)\n",
    "df['DIABETE3'] = df['DIABETE3'].replace({2:0, 3:0, 1:2, 4:1})\n",
    "df = df[df.DIABETE3 != 7]\n",
    "df = df[df.DIABETE3 != 9]\n",
    "df.DIABETE3.unique()"
   ]
  },
  {
   "cell_type": "code",
   "execution_count": 29,
   "id": "90aa5ea1",
   "metadata": {},
   "outputs": [
    {
     "data": {
      "text/plain": [
       "array([], dtype=float64)"
      ]
     },
     "execution_count": 29,
     "metadata": {},
     "output_type": "execute_result"
    }
   ],
   "source": [
    "# 1 for physical activity\n",
    "# change 2 to 0 for no physical activity\n",
    "# Remove all 9 (don't know/refused)\n",
    "df['_TOTINDA'] = df['_TOTINDA'].replace({2:0})\n",
    "df = df[df._TOTINDA != 9]\n",
    "df._TOTINDA.unique()"
   ]
  },
  {
   "cell_type": "code",
   "execution_count": 30,
   "id": "11ae7c6a",
   "metadata": {},
   "outputs": [
    {
     "data": {
      "text/plain": [
       "array([], dtype=float64)"
      ]
     },
     "execution_count": 30,
     "metadata": {},
     "output_type": "execute_result"
    }
   ],
   "source": [
    "# Change 2 to 0. this means no fruit consumed per day. 1 will mean consumed 1 or more pieces of fruit per day \n",
    "# remove all dont knows and missing 9\n",
    "df['_FRTLT1'] = df['_FRTLT1'].replace({2:0})\n",
    "df = df[df._FRTLT1 != 9]\n",
    "df._FRTLT1.unique()"
   ]
  },
  {
   "cell_type": "code",
   "execution_count": 31,
   "id": "55f2111d",
   "metadata": {},
   "outputs": [
    {
     "data": {
      "text/plain": [
       "array([], dtype=float64)"
      ]
     },
     "execution_count": 31,
     "metadata": {},
     "output_type": "execute_result"
    }
   ],
   "source": [
    "# Change 2 to 0. this means no vegetables consumed per day. 1 will mean consumed 1 or more pieces of vegetable per day \n",
    "# remove all dont knows and missing 9\n",
    "df['_VEGLT1'] = df['_VEGLT1'].replace({2:0})\n",
    "df = df[df._VEGLT1 != 9]\n",
    "df._VEGLT1.unique()"
   ]
  },
  {
   "cell_type": "code",
   "execution_count": 32,
   "id": "a32d4c19",
   "metadata": {},
   "outputs": [
    {
     "data": {
      "text/plain": [
       "array([], dtype=float64)"
      ]
     },
     "execution_count": 32,
     "metadata": {},
     "output_type": "execute_result"
    }
   ],
   "source": [
    "# Change 1 to 0 (1 was no for heavy drinking). change all 2 to 1 (2 was yes for heavy drinking)\n",
    "# remove all dont knows and missing 9\n",
    "df['_RFDRHV5'] = df['_RFDRHV5'].replace({1:0, 2:1})\n",
    "df = df[df._RFDRHV5 != 9]\n",
    "df._RFDRHV5.unique()"
   ]
  },
  {
   "cell_type": "code",
   "execution_count": 33,
   "id": "3ac89728",
   "metadata": {},
   "outputs": [
    {
     "data": {
      "text/plain": [
       "array([], dtype=float64)"
      ]
     },
     "execution_count": 33,
     "metadata": {},
     "output_type": "execute_result"
    }
   ],
   "source": [
    "# 1 is yes, change 2 to 0 because it is No health care access\n",
    "# remove 7 and 9 for don't know or refused\n",
    "df['HLTHPLN1'] = df['HLTHPLN1'].replace({2:0})\n",
    "df = df[df.HLTHPLN1 != 7]\n",
    "df = df[df.HLTHPLN1 != 9]\n",
    "df.HLTHPLN1.unique()"
   ]
  },
  {
   "cell_type": "code",
   "execution_count": 34,
   "id": "a6407455",
   "metadata": {},
   "outputs": [
    {
     "data": {
      "text/plain": [
       "array([], dtype=float64)"
      ]
     },
     "execution_count": 34,
     "metadata": {},
     "output_type": "execute_result"
    }
   ],
   "source": [
    "# Change 2 to 0 for no, 1 is already yes\n",
    "# remove 7 for don/t know and 9 for refused\n",
    "df['MEDCOST'] = df['MEDCOST'].replace({2:0})\n",
    "df = df[df.MEDCOST != 7]\n",
    "df = df[df.MEDCOST != 9]\n",
    "df.MEDCOST.unique()"
   ]
  },
  {
   "cell_type": "code",
   "execution_count": 35,
   "id": "03c23981",
   "metadata": {},
   "outputs": [
    {
     "data": {
      "text/plain": [
       "array([], dtype=float64)"
      ]
     },
     "execution_count": 35,
     "metadata": {},
     "output_type": "execute_result"
    }
   ],
   "source": [
    "# This is an ordinal variable that I want to keep (1 is Excellent -> 5 is Poor)\n",
    "# Remove 7 and 9 for don't know and refused\n",
    "df = df[df.GENHLTH != 7]\n",
    "df = df[df.GENHLTH != 9]\n",
    "df.GENHLTH.unique()"
   ]
  },
  {
   "cell_type": "code",
   "execution_count": 36,
   "id": "80246830",
   "metadata": {},
   "outputs": [
    {
     "data": {
      "text/plain": [
       "array([], dtype=float64)"
      ]
     },
     "execution_count": 36,
     "metadata": {},
     "output_type": "execute_result"
    }
   ],
   "source": [
    "# already in days so keep that, scale will be 0-30\n",
    "# change 88 to 0 because it means none (no bad mental health days)\n",
    "# remove 77 and 99 for don't know not sure and refused\n",
    "df['MENTHLTH'] = df['MENTHLTH'].replace({88:0})\n",
    "df = df[df.MENTHLTH != 77]\n",
    "df = df[df.MENTHLTH != 99]\n",
    "df.MENTHLTH.unique()\n"
   ]
  },
  {
   "cell_type": "code",
   "execution_count": 38,
   "id": "026a155b",
   "metadata": {},
   "outputs": [
    {
     "data": {
      "text/plain": [
       "array([], dtype=float64)"
      ]
     },
     "execution_count": 38,
     "metadata": {},
     "output_type": "execute_result"
    }
   ],
   "source": [
    "# already in days so keep that, scale will be 0-30\n",
    "# change 88 to 0 because it means none (no bad mental health days)\n",
    "# remove 77 and 99 for don't know not sure and refused\n",
    "df['PHYSHLTH'] = df['PHYSHLTH'].replace({88:0})\n",
    "df = df[df.PHYSHLTH != 77]\n",
    "df = df[df.PHYSHLTH != 99]\n",
    "df.PHYSHLTH.unique()"
   ]
  },
  {
   "cell_type": "code",
   "execution_count": 39,
   "id": "a6e50767",
   "metadata": {},
   "outputs": [
    {
     "data": {
      "text/plain": [
       "array([], dtype=float64)"
      ]
     },
     "execution_count": 39,
     "metadata": {},
     "output_type": "execute_result"
    }
   ],
   "source": [
    "# change 2 to 0 for no. 1 is already yes\n",
    "# remove 7 and 9 for don't know not sure and refused\n",
    "df['DIFFWALK'] = df['DIFFWALK'].replace({2:0})\n",
    "df = df[df.DIFFWALK != 7]\n",
    "df = df[df.DIFFWALK != 9]\n",
    "df.DIFFWALK.unique()"
   ]
  },
  {
   "cell_type": "code",
   "execution_count": 40,
   "id": "f8e2899f",
   "metadata": {},
   "outputs": [
    {
     "data": {
      "text/plain": [
       "array([], dtype=float64)"
      ]
     },
     "execution_count": 40,
     "metadata": {},
     "output_type": "execute_result"
    }
   ],
   "source": [
    "# in other words - is respondent male (somewhat arbitrarily chose this change because men are at higher risk for heart disease)\n",
    "# change 2 to 0 (female as 0). Male is 1\n",
    "df['SEX'] = df['SEX'].replace({2:0})\n",
    "df.SEX.unique()"
   ]
  },
  {
   "cell_type": "code",
   "execution_count": 41,
   "id": "307d00be",
   "metadata": {},
   "outputs": [
    {
     "data": {
      "text/plain": [
       "array([], dtype=float64)"
      ]
     },
     "execution_count": 41,
     "metadata": {},
     "output_type": "execute_result"
    }
   ],
   "source": [
    "# already ordinal. 1 is 18-24 all the way up to 13 wis 80 and older. 5 year increments.\n",
    "# remove 14 because it is don't know or missing\n",
    "df = df[df._AGEG5YR != 14]\n",
    "df._AGEG5YR.unique()"
   ]
  },
  {
   "cell_type": "code",
   "execution_count": 42,
   "id": "dd38ef32",
   "metadata": {},
   "outputs": [
    {
     "data": {
      "text/plain": [
       "array([], dtype=float64)"
      ]
     },
     "execution_count": 42,
     "metadata": {},
     "output_type": "execute_result"
    }
   ],
   "source": [
    "# This is already an ordinal variable with 1 being never attended school or kindergarten only up to 6 being college 4 years or more\n",
    "# Scale here is 1-6\n",
    "# Remove 9 for refused:\n",
    "df = df[df.EDUCA != 9]\n",
    "df.EDUCA.unique()"
   ]
  },
  {
   "cell_type": "code",
   "execution_count": 43,
   "id": "4f2a02e8",
   "metadata": {},
   "outputs": [
    {
     "data": {
      "text/plain": [
       "array([], dtype=float64)"
      ]
     },
     "execution_count": 43,
     "metadata": {},
     "output_type": "execute_result"
    }
   ],
   "source": [
    "# Variable is already ordinal with 1 being less than $10,000 all the way up to 8 being $75,000 or more\n",
    "# Remove 77 and 99 for don't know and refused\n",
    "df = df[df.INCOME2 != 77]\n",
    "df = df[df.INCOME2 != 99]\n",
    "df.INCOME2.unique()"
   ]
  },
  {
   "cell_type": "code",
   "execution_count": 44,
   "id": "72065552",
   "metadata": {},
   "outputs": [
    {
     "data": {
      "text/plain": [
       "(0, 330)"
      ]
     },
     "execution_count": 44,
     "metadata": {},
     "output_type": "execute_result"
    }
   ],
   "source": [
    "#Check the shape of the dataset now: We have 253,680 cleaned rows and 22 columns (1 of which is our dependent variable)\n",
    "df.shape"
   ]
  },
  {
   "cell_type": "code",
   "execution_count": 45,
   "id": "417436ab",
   "metadata": {},
   "outputs": [
    {
     "data": {
      "text/html": [
       "<div>\n",
       "<style scoped>\n",
       "    .dataframe tbody tr th:only-of-type {\n",
       "        vertical-align: middle;\n",
       "    }\n",
       "\n",
       "    .dataframe tbody tr th {\n",
       "        vertical-align: top;\n",
       "    }\n",
       "\n",
       "    .dataframe thead th {\n",
       "        text-align: right;\n",
       "    }\n",
       "</style>\n",
       "<table border=\"1\" class=\"dataframe\">\n",
       "  <thead>\n",
       "    <tr style=\"text-align: right;\">\n",
       "      <th></th>\n",
       "      <th>_STATE</th>\n",
       "      <th>FMONTH</th>\n",
       "      <th>IDATE</th>\n",
       "      <th>IMONTH</th>\n",
       "      <th>IDAY</th>\n",
       "      <th>IYEAR</th>\n",
       "      <th>DISPCODE</th>\n",
       "      <th>SEQNO</th>\n",
       "      <th>_PSU</th>\n",
       "      <th>CTELENUM</th>\n",
       "      <th>...</th>\n",
       "      <th>_PAREC1</th>\n",
       "      <th>_PASTAE1</th>\n",
       "      <th>_LMTACT1</th>\n",
       "      <th>_LMTWRK1</th>\n",
       "      <th>_LMTSCL1</th>\n",
       "      <th>_RFSEAT2</th>\n",
       "      <th>_RFSEAT3</th>\n",
       "      <th>_FLSHOT6</th>\n",
       "      <th>_PNEUMO2</th>\n",
       "      <th>_AIDTST3</th>\n",
       "    </tr>\n",
       "  </thead>\n",
       "  <tbody>\n",
       "  </tbody>\n",
       "</table>\n",
       "<p>0 rows × 330 columns</p>\n",
       "</div>"
      ],
      "text/plain": [
       "Empty DataFrame\n",
       "Columns: [_STATE, FMONTH, IDATE, IMONTH, IDAY, IYEAR, DISPCODE, SEQNO, _PSU, CTELENUM, PVTRESD1, COLGHOUS, STATERES, CELLFON3, LADULT, NUMADULT, NUMMEN, NUMWOMEN, CTELNUM1, CELLFON2, CADULT, PVTRESD2, CCLGHOUS, CSTATE, LANDLINE, HHADULT, GENHLTH, PHYSHLTH, MENTHLTH, POORHLTH, HLTHPLN1, PERSDOC2, MEDCOST, CHECKUP1, BPHIGH4, BPMEDS, BLOODCHO, CHOLCHK, TOLDHI2, CVDINFR4, CVDCRHD4, CVDSTRK3, ASTHMA3, ASTHNOW, CHCSCNCR, CHCOCNCR, CHCCOPD1, HAVARTH3, ADDEPEV2, CHCKIDNY, DIABETE3, DIABAGE2, SEX, MARITAL, EDUCA, RENTHOM1, NUMHHOL2, NUMPHON2, CPDEMO1, VETERAN3, EMPLOY1, CHILDREN, INCOME2, INTERNET, WEIGHT2, HEIGHT3, PREGNANT, QLACTLM2, USEEQUIP, BLIND, DECIDE, DIFFWALK, DIFFDRES, DIFFALON, SMOKE100, SMOKDAY2, STOPSMK2, LASTSMK2, USENOW3, ALCDAY5, AVEDRNK2, DRNK3GE5, MAXDRNKS, FRUITJU1, FRUIT1, FVBEANS, FVGREEN, FVORANG, VEGETAB1, EXERANY2, EXRACT11, EXEROFT1, EXERHMM1, EXRACT21, EXEROFT2, EXERHMM2, STRENGTH, LMTJOIN3, ARTHDIS2, ARTHSOCL, ...]\n",
       "Index: []\n",
       "\n",
       "[0 rows x 330 columns]"
      ]
     },
     "execution_count": 45,
     "metadata": {},
     "output_type": "execute_result"
    }
   ],
   "source": [
    "#Let's see what the data looks like after Modifying Values\n",
    "df.head()"
   ]
  },
  {
   "cell_type": "code",
   "execution_count": 46,
   "id": "00a6fc7f",
   "metadata": {},
   "outputs": [
    {
     "data": {
      "text/plain": [
       "Series([], dtype: int64)"
      ]
     },
     "execution_count": 46,
     "metadata": {},
     "output_type": "execute_result"
    }
   ],
   "source": [
    "#Check Class Sizes of the heart disease column\n",
    "df.groupby(['_MICHD']).size()"
   ]
  },
  {
   "cell_type": "code",
   "execution_count": 52,
   "id": "58789185",
   "metadata": {},
   "outputs": [],
   "source": [
    "#Rename the columns to make them more readable\n",
    "df = df.rename(columns = {'_MICHD':'HeartDiseaseorAttack', \n",
    "                                         '_RFHYPE5':'HighBP',  \n",
    "                                         'TOLDHI2':'HighChol', '_CHOLCHK':'CholCheck', \n",
    "                                         '_BMI5':'BMI', \n",
    "                                         'SMOKE100':'Smoker', \n",
    "                                         'CVDSTRK3':'Stroke', 'DIABETE3':'Diabetes', \n",
    "                                         '_TOTINDA':'PhysActivity', \n",
    "                                         '_FRTLT1':'Fruits', '_VEGLT1':\"Veggies\", \n",
    "                                         '_RFDRHV5':'HvyAlcoholConsump', \n",
    "                                         'HLTHPLN1':'AnyHealthcare', 'MEDCOST':'NoDocbcCost', \n",
    "                                         'GENHLTH':'GenHlth', 'MENTHLTH':'MentHlth', 'PHYSHLTH':'PhysHlth', 'DIFFWALK':'DiffWalk', \n",
    "                                         'SEX':'Sex', '_AGEG5YR':'Age', 'EDUCA':'Education', 'INCOME2':'Income' })"
   ]
  },
  {
   "cell_type": "code",
   "execution_count": 54,
   "id": "02293379",
   "metadata": {},
   "outputs": [
    {
     "data": {
      "text/html": [
       "<div>\n",
       "<style scoped>\n",
       "    .dataframe tbody tr th:only-of-type {\n",
       "        vertical-align: middle;\n",
       "    }\n",
       "\n",
       "    .dataframe tbody tr th {\n",
       "        vertical-align: top;\n",
       "    }\n",
       "\n",
       "    .dataframe thead th {\n",
       "        text-align: right;\n",
       "    }\n",
       "</style>\n",
       "<table border=\"1\" class=\"dataframe\">\n",
       "  <thead>\n",
       "    <tr style=\"text-align: right;\">\n",
       "      <th></th>\n",
       "      <th>_STATE</th>\n",
       "      <th>FMONTH</th>\n",
       "      <th>IDATE</th>\n",
       "      <th>IMONTH</th>\n",
       "      <th>IDAY</th>\n",
       "      <th>IYEAR</th>\n",
       "      <th>DISPCODE</th>\n",
       "      <th>SEQNO</th>\n",
       "      <th>_PSU</th>\n",
       "      <th>CTELENUM</th>\n",
       "      <th>...</th>\n",
       "      <th>_PAREC1</th>\n",
       "      <th>_PASTAE1</th>\n",
       "      <th>_LMTACT1</th>\n",
       "      <th>_LMTWRK1</th>\n",
       "      <th>_LMTSCL1</th>\n",
       "      <th>_RFSEAT2</th>\n",
       "      <th>_RFSEAT3</th>\n",
       "      <th>_FLSHOT6</th>\n",
       "      <th>_PNEUMO2</th>\n",
       "      <th>_AIDTST3</th>\n",
       "    </tr>\n",
       "  </thead>\n",
       "  <tbody>\n",
       "  </tbody>\n",
       "</table>\n",
       "<p>0 rows × 330 columns</p>\n",
       "</div>"
      ],
      "text/plain": [
       "Empty DataFrame\n",
       "Columns: [_STATE, FMONTH, IDATE, IMONTH, IDAY, IYEAR, DISPCODE, SEQNO, _PSU, CTELENUM, PVTRESD1, COLGHOUS, STATERES, CELLFON3, LADULT, NUMADULT, NUMMEN, NUMWOMEN, CTELNUM1, CELLFON2, CADULT, PVTRESD2, CCLGHOUS, CSTATE, LANDLINE, HHADULT, GenHlth, PhysHlth, MentHlth, POORHLTH, AnyHealthcare, PERSDOC2, NoDocbcCost, CHECKUP1, BPHIGH4, BPMEDS, BLOODCHO, CHOLCHK, HighChol, CVDINFR4, CVDCRHD4, Stroke, ASTHMA3, ASTHNOW, CHCSCNCR, CHCOCNCR, CHCCOPD1, HAVARTH3, ADDEPEV2, CHCKIDNY, Diabetes, DIABAGE2, Sex, MARITAL, Education, RENTHOM1, NUMHHOL2, NUMPHON2, CPDEMO1, VETERAN3, EMPLOY1, CHILDREN, Income, INTERNET, WEIGHT2, HEIGHT3, PREGNANT, QLACTLM2, USEEQUIP, BLIND, DECIDE, DiffWalk, DIFFDRES, DIFFALON, Smoker, SMOKDAY2, STOPSMK2, LASTSMK2, USENOW3, ALCDAY5, AVEDRNK2, DRNK3GE5, MAXDRNKS, FRUITJU1, FRUIT1, FVBEANS, FVGREEN, FVORANG, VEGETAB1, EXERANY2, EXRACT11, EXEROFT1, EXERHMM1, EXRACT21, EXEROFT2, EXERHMM2, STRENGTH, LMTJOIN3, ARTHDIS2, ARTHSOCL, ...]\n",
       "Index: []\n",
       "\n",
       "[0 rows x 330 columns]"
      ]
     },
     "execution_count": 54,
     "metadata": {},
     "output_type": "execute_result"
    }
   ],
   "source": [
    "df.head()"
   ]
  },
  {
   "cell_type": "code",
   "execution_count": 56,
   "id": "06ec624e",
   "metadata": {},
   "outputs": [
    {
     "data": {
      "text/plain": [
       "(0, 330)"
      ]
     },
     "execution_count": 56,
     "metadata": {},
     "output_type": "execute_result"
    }
   ],
   "source": [
    "df.shape"
   ]
  },
  {
   "cell_type": "code",
   "execution_count": 57,
   "id": "080a36a2",
   "metadata": {},
   "outputs": [
    {
     "data": {
      "text/plain": [
       "Series([], dtype: int64)"
      ]
     },
     "execution_count": 57,
     "metadata": {},
     "output_type": "execute_result"
    }
   ],
   "source": [
    "#Check how many respondents have had heart disease or a heart attack. Note the class imbalance!\n",
    "df.groupby(['HeartDiseaseorAttack']).size()"
   ]
  },
  {
   "cell_type": "code",
   "execution_count": 59,
   "id": "cd98b432",
   "metadata": {},
   "outputs": [
    {
     "ename": "KeyError",
     "evalue": "'_AGEG5YR'",
     "output_type": "error",
     "traceback": [
      "\u001b[1;31m---------------------------------------------------------------------------\u001b[0m",
      "\u001b[1;31mKeyError\u001b[0m                                  Traceback (most recent call last)",
      "\u001b[1;32m~\\anaconda3\\lib\\site-packages\\pandas\\core\\indexes\\base.py\u001b[0m in \u001b[0;36mget_loc\u001b[1;34m(self, key, method, tolerance)\u001b[0m\n\u001b[0;32m   3628\u001b[0m             \u001b[1;32mtry\u001b[0m\u001b[1;33m:\u001b[0m\u001b[1;33m\u001b[0m\u001b[1;33m\u001b[0m\u001b[0m\n\u001b[1;32m-> 3629\u001b[1;33m                 \u001b[1;32mreturn\u001b[0m \u001b[0mself\u001b[0m\u001b[1;33m.\u001b[0m\u001b[0m_engine\u001b[0m\u001b[1;33m.\u001b[0m\u001b[0mget_loc\u001b[0m\u001b[1;33m(\u001b[0m\u001b[0mcasted_key\u001b[0m\u001b[1;33m)\u001b[0m\u001b[1;33m\u001b[0m\u001b[1;33m\u001b[0m\u001b[0m\n\u001b[0m\u001b[0;32m   3630\u001b[0m             \u001b[1;32mexcept\u001b[0m \u001b[0mKeyError\u001b[0m \u001b[1;32mas\u001b[0m \u001b[0merr\u001b[0m\u001b[1;33m:\u001b[0m\u001b[1;33m\u001b[0m\u001b[1;33m\u001b[0m\u001b[0m\n",
      "\u001b[1;32m~\\anaconda3\\lib\\site-packages\\pandas\\_libs\\index.pyx\u001b[0m in \u001b[0;36mpandas._libs.index.IndexEngine.get_loc\u001b[1;34m()\u001b[0m\n",
      "\u001b[1;32m~\\anaconda3\\lib\\site-packages\\pandas\\_libs\\index.pyx\u001b[0m in \u001b[0;36mpandas._libs.index.IndexEngine.get_loc\u001b[1;34m()\u001b[0m\n",
      "\u001b[1;32mpandas\\_libs\\hashtable_class_helper.pxi\u001b[0m in \u001b[0;36mpandas._libs.hashtable.PyObjectHashTable.get_item\u001b[1;34m()\u001b[0m\n",
      "\u001b[1;32mpandas\\_libs\\hashtable_class_helper.pxi\u001b[0m in \u001b[0;36mpandas._libs.hashtable.PyObjectHashTable.get_item\u001b[1;34m()\u001b[0m\n",
      "\u001b[1;31mKeyError\u001b[0m: '_AGEG5YR'",
      "\nThe above exception was the direct cause of the following exception:\n",
      "\u001b[1;31mKeyError\u001b[0m                                  Traceback (most recent call last)",
      "\u001b[1;32m~\\AppData\\Local\\Temp\\ipykernel_18796\\3013745656.py\u001b[0m in \u001b[0;36m<module>\u001b[1;34m\u001b[0m\n\u001b[1;32m----> 1\u001b[1;33m \u001b[0msns\u001b[0m\u001b[1;33m.\u001b[0m\u001b[0mdistplot\u001b[0m\u001b[1;33m(\u001b[0m\u001b[0mdf\u001b[0m\u001b[1;33m[\u001b[0m\u001b[1;34m'_AGEG5YR'\u001b[0m\u001b[1;33m]\u001b[0m\u001b[1;33m,\u001b[0m \u001b[0mkde\u001b[0m\u001b[1;33m=\u001b[0m\u001b[1;32mFalse\u001b[0m\u001b[1;33m,\u001b[0m \u001b[0mcolor\u001b[0m\u001b[1;33m=\u001b[0m\u001b[1;34m'red'\u001b[0m\u001b[1;33m)\u001b[0m\u001b[1;33m\u001b[0m\u001b[1;33m\u001b[0m\u001b[0m\n\u001b[0m",
      "\u001b[1;32m~\\anaconda3\\lib\\site-packages\\pandas\\core\\frame.py\u001b[0m in \u001b[0;36m__getitem__\u001b[1;34m(self, key)\u001b[0m\n\u001b[0;32m   3503\u001b[0m             \u001b[1;32mif\u001b[0m \u001b[0mself\u001b[0m\u001b[1;33m.\u001b[0m\u001b[0mcolumns\u001b[0m\u001b[1;33m.\u001b[0m\u001b[0mnlevels\u001b[0m \u001b[1;33m>\u001b[0m \u001b[1;36m1\u001b[0m\u001b[1;33m:\u001b[0m\u001b[1;33m\u001b[0m\u001b[1;33m\u001b[0m\u001b[0m\n\u001b[0;32m   3504\u001b[0m                 \u001b[1;32mreturn\u001b[0m \u001b[0mself\u001b[0m\u001b[1;33m.\u001b[0m\u001b[0m_getitem_multilevel\u001b[0m\u001b[1;33m(\u001b[0m\u001b[0mkey\u001b[0m\u001b[1;33m)\u001b[0m\u001b[1;33m\u001b[0m\u001b[1;33m\u001b[0m\u001b[0m\n\u001b[1;32m-> 3505\u001b[1;33m             \u001b[0mindexer\u001b[0m \u001b[1;33m=\u001b[0m \u001b[0mself\u001b[0m\u001b[1;33m.\u001b[0m\u001b[0mcolumns\u001b[0m\u001b[1;33m.\u001b[0m\u001b[0mget_loc\u001b[0m\u001b[1;33m(\u001b[0m\u001b[0mkey\u001b[0m\u001b[1;33m)\u001b[0m\u001b[1;33m\u001b[0m\u001b[1;33m\u001b[0m\u001b[0m\n\u001b[0m\u001b[0;32m   3506\u001b[0m             \u001b[1;32mif\u001b[0m \u001b[0mis_integer\u001b[0m\u001b[1;33m(\u001b[0m\u001b[0mindexer\u001b[0m\u001b[1;33m)\u001b[0m\u001b[1;33m:\u001b[0m\u001b[1;33m\u001b[0m\u001b[1;33m\u001b[0m\u001b[0m\n\u001b[0;32m   3507\u001b[0m                 \u001b[0mindexer\u001b[0m \u001b[1;33m=\u001b[0m \u001b[1;33m[\u001b[0m\u001b[0mindexer\u001b[0m\u001b[1;33m]\u001b[0m\u001b[1;33m\u001b[0m\u001b[1;33m\u001b[0m\u001b[0m\n",
      "\u001b[1;32m~\\anaconda3\\lib\\site-packages\\pandas\\core\\indexes\\base.py\u001b[0m in \u001b[0;36mget_loc\u001b[1;34m(self, key, method, tolerance)\u001b[0m\n\u001b[0;32m   3629\u001b[0m                 \u001b[1;32mreturn\u001b[0m \u001b[0mself\u001b[0m\u001b[1;33m.\u001b[0m\u001b[0m_engine\u001b[0m\u001b[1;33m.\u001b[0m\u001b[0mget_loc\u001b[0m\u001b[1;33m(\u001b[0m\u001b[0mcasted_key\u001b[0m\u001b[1;33m)\u001b[0m\u001b[1;33m\u001b[0m\u001b[1;33m\u001b[0m\u001b[0m\n\u001b[0;32m   3630\u001b[0m             \u001b[1;32mexcept\u001b[0m \u001b[0mKeyError\u001b[0m \u001b[1;32mas\u001b[0m \u001b[0merr\u001b[0m\u001b[1;33m:\u001b[0m\u001b[1;33m\u001b[0m\u001b[1;33m\u001b[0m\u001b[0m\n\u001b[1;32m-> 3631\u001b[1;33m                 \u001b[1;32mraise\u001b[0m \u001b[0mKeyError\u001b[0m\u001b[1;33m(\u001b[0m\u001b[0mkey\u001b[0m\u001b[1;33m)\u001b[0m \u001b[1;32mfrom\u001b[0m \u001b[0merr\u001b[0m\u001b[1;33m\u001b[0m\u001b[1;33m\u001b[0m\u001b[0m\n\u001b[0m\u001b[0;32m   3632\u001b[0m             \u001b[1;32mexcept\u001b[0m \u001b[0mTypeError\u001b[0m\u001b[1;33m:\u001b[0m\u001b[1;33m\u001b[0m\u001b[1;33m\u001b[0m\u001b[0m\n\u001b[0;32m   3633\u001b[0m                 \u001b[1;31m# If we have a listlike key, _check_indexing_error will raise\u001b[0m\u001b[1;33m\u001b[0m\u001b[1;33m\u001b[0m\u001b[0m\n",
      "\u001b[1;31mKeyError\u001b[0m: '_AGEG5YR'"
     ]
    }
   ],
   "source": []
  },
  {
   "cell_type": "code",
   "execution_count": null,
   "id": "7d8b7d7b",
   "metadata": {},
   "outputs": [],
   "source": []
  }
 ],
 "metadata": {
  "kernelspec": {
   "display_name": "Python 3 (ipykernel)",
   "language": "python",
   "name": "python3"
  },
  "language_info": {
   "codemirror_mode": {
    "name": "ipython",
    "version": 3
   },
   "file_extension": ".py",
   "mimetype": "text/x-python",
   "name": "python",
   "nbconvert_exporter": "python",
   "pygments_lexer": "ipython3",
   "version": "3.9.13"
  }
 },
 "nbformat": 4,
 "nbformat_minor": 5
}
