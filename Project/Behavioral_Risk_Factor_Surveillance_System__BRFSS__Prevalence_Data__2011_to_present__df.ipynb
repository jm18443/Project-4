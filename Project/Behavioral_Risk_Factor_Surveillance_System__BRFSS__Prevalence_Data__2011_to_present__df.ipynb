{
 "cells": [
  {
   "cell_type": "code",
   "execution_count": 3,
   "id": "48344a49",
   "metadata": {},
   "outputs": [
    {
     "name": "stdout",
     "output_type": "stream",
     "text": [
      "Requirement already satisfied: seaborn in c:\\python310\\lib\\site-packages (0.12.2)\n",
      "Requirement already satisfied: pandas>=0.25 in c:\\python310\\lib\\site-packages (from seaborn) (1.5.1)\n",
      "Requirement already satisfied: numpy!=1.24.0,>=1.17 in c:\\python310\\lib\\site-packages (from seaborn) (1.23.4)\n",
      "Requirement already satisfied: matplotlib!=3.6.1,>=3.1 in c:\\python310\\lib\\site-packages (from seaborn) (3.7.1)\n",
      "Requirement already satisfied: pillow>=6.2.0 in c:\\python310\\lib\\site-packages (from matplotlib!=3.6.1,>=3.1->seaborn) (9.4.0)\n",
      "Requirement already satisfied: pyparsing>=2.3.1 in c:\\users\\jm18443\\appdata\\roaming\\python\\python310\\site-packages (from matplotlib!=3.6.1,>=3.1->seaborn) (3.0.9)\n",
      "Requirement already satisfied: packaging>=20.0 in c:\\users\\jm18443\\appdata\\roaming\\python\\python310\\site-packages (from matplotlib!=3.6.1,>=3.1->seaborn) (21.3)\n",
      "Requirement already satisfied: fonttools>=4.22.0 in c:\\python310\\lib\\site-packages (from matplotlib!=3.6.1,>=3.1->seaborn) (4.38.0)\n",
      "Requirement already satisfied: contourpy>=1.0.1 in c:\\python310\\lib\\site-packages (from matplotlib!=3.6.1,>=3.1->seaborn) (1.0.7)\n",
      "Requirement already satisfied: cycler>=0.10 in c:\\python310\\lib\\site-packages (from matplotlib!=3.6.1,>=3.1->seaborn) (0.11.0)\n",
      "Requirement already satisfied: kiwisolver>=1.0.1 in c:\\python310\\lib\\site-packages (from matplotlib!=3.6.1,>=3.1->seaborn) (1.4.4)\n",
      "Requirement already satisfied: python-dateutil>=2.7 in c:\\python310\\lib\\site-packages (from matplotlib!=3.6.1,>=3.1->seaborn) (2.8.2)\n",
      "Requirement already satisfied: pytz>=2020.1 in c:\\python310\\lib\\site-packages (from pandas>=0.25->seaborn) (2022.6)\n",
      "Requirement already satisfied: six>=1.5 in c:\\python310\\lib\\site-packages (from python-dateutil>=2.7->matplotlib!=3.6.1,>=3.1->seaborn) (1.16.0)\n",
      "Note: you may need to restart the kernel to use updated packages.\n"
     ]
    },
    {
     "name": "stderr",
     "output_type": "stream",
     "text": [
      "WARNING: Ignoring invalid distribution -ip (c:\\python310\\lib\\site-packages)\n",
      "WARNING: Ignoring invalid distribution - (c:\\python310\\lib\\site-packages)\n",
      "WARNING: Ignoring invalid distribution -ip (c:\\python310\\lib\\site-packages)\n",
      "WARNING: Ignoring invalid distribution - (c:\\python310\\lib\\site-packages)\n",
      "WARNING: Ignoring invalid distribution -ip (c:\\python310\\lib\\site-packages)\n",
      "WARNING: Ignoring invalid distribution - (c:\\python310\\lib\\site-packages)\n",
      "WARNING: Ignoring invalid distribution -ip (c:\\python310\\lib\\site-packages)\n",
      "WARNING: Ignoring invalid distribution - (c:\\python310\\lib\\site-packages)\n",
      "WARNING: Ignoring invalid distribution -ip (c:\\python310\\lib\\site-packages)\n",
      "WARNING: Ignoring invalid distribution - (c:\\python310\\lib\\site-packages)\n",
      "WARNING: Ignoring invalid distribution -ip (c:\\python310\\lib\\site-packages)\n",
      "WARNING: Ignoring invalid distribution - (c:\\python310\\lib\\site-packages)\n",
      "WARNING: You are using pip version 21.2.4; however, version 23.0.1 is available.\n",
      "You should consider upgrading via the 'C:\\Python310\\python.exe -m pip install --upgrade pip' command.\n"
     ]
    }
   ],
   "source": [
    "pip install seaborn"
   ]
  },
  {
   "cell_type": "code",
   "execution_count": 4,
   "id": "b6499327",
   "metadata": {},
   "outputs": [],
   "source": [
    "from imblearn.over_sampling import SMOTE\n",
    "from xgboost import XGBClassifier\n",
    "from sklearn.svm import SVC\n",
    "import seaborn as sns\n",
    "import pandas as pd\n",
    "import numpy as np\n",
    "import sklearn\n",
    "\n"
   ]
  },
  {
   "cell_type": "code",
   "execution_count": 17,
   "id": "2b87aa35",
   "metadata": {},
   "outputs": [
    {
     "name": "stderr",
     "output_type": "stream",
     "text": [
      "C:\\Users\\Jm18443\\AppData\\Local\\Temp\\ipykernel_19520\\1065668482.py:1: DtypeWarning: Columns (13) have mixed types. Specify dtype option on import or set low_memory=False.\n",
      "  Heart_disease_df = pd.read_csv('../Resources/Behavioral_Risk_Factor_Surveillance_System__BRFSS__Prevalence_Data__2011_to_present_.csv')\n"
     ]
    },
    {
     "data": {
      "text/html": [
       "<div>\n",
       "<style scoped>\n",
       "    .dataframe tbody tr th:only-of-type {\n",
       "        vertical-align: middle;\n",
       "    }\n",
       "\n",
       "    .dataframe tbody tr th {\n",
       "        vertical-align: top;\n",
       "    }\n",
       "\n",
       "    .dataframe thead th {\n",
       "        text-align: right;\n",
       "    }\n",
       "</style>\n",
       "<table border=\"1\" class=\"dataframe\">\n",
       "  <thead>\n",
       "    <tr style=\"text-align: right;\">\n",
       "      <th></th>\n",
       "      <th>Year</th>\n",
       "      <th>Locationabbr</th>\n",
       "      <th>Locationdesc</th>\n",
       "      <th>Class</th>\n",
       "      <th>Topic</th>\n",
       "      <th>Question</th>\n",
       "      <th>Response</th>\n",
       "      <th>Break_Out</th>\n",
       "      <th>Break_Out_Category</th>\n",
       "      <th>Sample_Size</th>\n",
       "      <th>...</th>\n",
       "      <th>Data_Value_Footnote</th>\n",
       "      <th>DataSource</th>\n",
       "      <th>ClassId</th>\n",
       "      <th>TopicId</th>\n",
       "      <th>LocationID</th>\n",
       "      <th>BreakoutID</th>\n",
       "      <th>BreakOutCategoryID</th>\n",
       "      <th>QuestionID</th>\n",
       "      <th>ResponseID</th>\n",
       "      <th>GeoLocation</th>\n",
       "    </tr>\n",
       "  </thead>\n",
       "  <tbody>\n",
       "    <tr>\n",
       "      <th>0</th>\n",
       "      <td>2012</td>\n",
       "      <td>GU</td>\n",
       "      <td>Guam</td>\n",
       "      <td>Demographics</td>\n",
       "      <td>Age</td>\n",
       "      <td>What is your age?</td>\n",
       "      <td>55-64 years</td>\n",
       "      <td>Overall</td>\n",
       "      <td>Overall</td>\n",
       "      <td>296</td>\n",
       "      <td>...</td>\n",
       "      <td>NaN</td>\n",
       "      <td>BRFSS</td>\n",
       "      <td>CLASS05</td>\n",
       "      <td>Topic02</td>\n",
       "      <td>66</td>\n",
       "      <td>BO1</td>\n",
       "      <td>CAT1</td>\n",
       "      <td>AGE</td>\n",
       "      <td>RESP014</td>\n",
       "      <td>(13.444304, 144.793731)</td>\n",
       "    </tr>\n",
       "    <tr>\n",
       "      <th>1</th>\n",
       "      <td>2012</td>\n",
       "      <td>GU</td>\n",
       "      <td>Guam</td>\n",
       "      <td>Demographics</td>\n",
       "      <td>Age</td>\n",
       "      <td>What is your age?</td>\n",
       "      <td>35-44 years</td>\n",
       "      <td>Female</td>\n",
       "      <td>Gender</td>\n",
       "      <td>272</td>\n",
       "      <td>...</td>\n",
       "      <td>NaN</td>\n",
       "      <td>BRFSS</td>\n",
       "      <td>CLASS05</td>\n",
       "      <td>Topic02</td>\n",
       "      <td>66</td>\n",
       "      <td>SEX2</td>\n",
       "      <td>CAT2</td>\n",
       "      <td>AGE</td>\n",
       "      <td>RESP012</td>\n",
       "      <td>(13.444304, 144.793731)</td>\n",
       "    </tr>\n",
       "    <tr>\n",
       "      <th>2</th>\n",
       "      <td>2020</td>\n",
       "      <td>AL</td>\n",
       "      <td>Alabama</td>\n",
       "      <td>Chronic Health Indicators</td>\n",
       "      <td>Depression</td>\n",
       "      <td>Ever told you that you have a form of depression?</td>\n",
       "      <td>Yes</td>\n",
       "      <td>College graduate</td>\n",
       "      <td>Education Attained</td>\n",
       "      <td>356</td>\n",
       "      <td>...</td>\n",
       "      <td>NaN</td>\n",
       "      <td>BRFSS</td>\n",
       "      <td>CLASS03</td>\n",
       "      <td>TOPIC17</td>\n",
       "      <td>1</td>\n",
       "      <td>EDUCA4</td>\n",
       "      <td>CAT5</td>\n",
       "      <td>ADDEPEV3</td>\n",
       "      <td>RESP046</td>\n",
       "      <td>(32.84057112200048, -86.63186076199969)</td>\n",
       "    </tr>\n",
       "    <tr>\n",
       "      <th>3</th>\n",
       "      <td>2020</td>\n",
       "      <td>AL</td>\n",
       "      <td>Alabama</td>\n",
       "      <td>Chronic Health Indicators</td>\n",
       "      <td>Diabetes</td>\n",
       "      <td>Have you ever been told by a doctor that you h...</td>\n",
       "      <td>Yes, pregnancy-related</td>\n",
       "      <td>White, non-Hispanic</td>\n",
       "      <td>Race/Ethnicity</td>\n",
       "      <td>32</td>\n",
       "      <td>...</td>\n",
       "      <td>NaN</td>\n",
       "      <td>BRFSS</td>\n",
       "      <td>CLASS03</td>\n",
       "      <td>TOPIC18</td>\n",
       "      <td>1</td>\n",
       "      <td>RACE01</td>\n",
       "      <td>CAT4</td>\n",
       "      <td>DIABETE4</td>\n",
       "      <td>RESP051</td>\n",
       "      <td>(32.84057112200048, -86.63186076199969)</td>\n",
       "    </tr>\n",
       "    <tr>\n",
       "      <th>4</th>\n",
       "      <td>2020</td>\n",
       "      <td>AL</td>\n",
       "      <td>Alabama</td>\n",
       "      <td>Chronic Health Indicators</td>\n",
       "      <td>Diabetes</td>\n",
       "      <td>Have you ever been told by a doctor that you h...</td>\n",
       "      <td>No, pre-diabetes or borderline diabetes</td>\n",
       "      <td>Overall</td>\n",
       "      <td>Overall</td>\n",
       "      <td>92</td>\n",
       "      <td>...</td>\n",
       "      <td>NaN</td>\n",
       "      <td>BRFSS</td>\n",
       "      <td>CLASS03</td>\n",
       "      <td>TOPIC18</td>\n",
       "      <td>1</td>\n",
       "      <td>BO1</td>\n",
       "      <td>CAT1</td>\n",
       "      <td>DIABETE4</td>\n",
       "      <td>RESP052</td>\n",
       "      <td>(32.84057112200048, -86.63186076199969)</td>\n",
       "    </tr>\n",
       "  </tbody>\n",
       "</table>\n",
       "<p>5 rows × 27 columns</p>\n",
       "</div>"
      ],
      "text/plain": [
       "   Year Locationabbr Locationdesc                      Class       Topic  \\\n",
       "0  2012           GU         Guam               Demographics         Age   \n",
       "1  2012           GU         Guam               Demographics         Age   \n",
       "2  2020           AL      Alabama  Chronic Health Indicators  Depression   \n",
       "3  2020           AL      Alabama  Chronic Health Indicators    Diabetes   \n",
       "4  2020           AL      Alabama  Chronic Health Indicators    Diabetes   \n",
       "\n",
       "                                            Question  \\\n",
       "0                                  What is your age?   \n",
       "1                                  What is your age?   \n",
       "2  Ever told you that you have a form of depression?   \n",
       "3  Have you ever been told by a doctor that you h...   \n",
       "4  Have you ever been told by a doctor that you h...   \n",
       "\n",
       "                                  Response            Break_Out  \\\n",
       "0                              55-64 years              Overall   \n",
       "1                              35-44 years               Female   \n",
       "2                                      Yes     College graduate   \n",
       "3                   Yes, pregnancy-related  White, non-Hispanic   \n",
       "4  No, pre-diabetes or borderline diabetes              Overall   \n",
       "\n",
       "   Break_Out_Category Sample_Size  ...  Data_Value_Footnote  DataSource  \\\n",
       "0             Overall         296  ...                  NaN       BRFSS   \n",
       "1              Gender         272  ...                  NaN       BRFSS   \n",
       "2  Education Attained         356  ...                  NaN       BRFSS   \n",
       "3      Race/Ethnicity          32  ...                  NaN       BRFSS   \n",
       "4             Overall          92  ...                  NaN       BRFSS   \n",
       "\n",
       "   ClassId  TopicId LocationID BreakoutID BreakOutCategoryID QuestionID  \\\n",
       "0  CLASS05  Topic02         66        BO1               CAT1        AGE   \n",
       "1  CLASS05  Topic02         66       SEX2               CAT2        AGE   \n",
       "2  CLASS03  TOPIC17          1     EDUCA4               CAT5   ADDEPEV3   \n",
       "3  CLASS03  TOPIC18          1     RACE01               CAT4   DIABETE4   \n",
       "4  CLASS03  TOPIC18          1        BO1               CAT1   DIABETE4   \n",
       "\n",
       "  ResponseID                              GeoLocation  \n",
       "0    RESP014                  (13.444304, 144.793731)  \n",
       "1    RESP012                  (13.444304, 144.793731)  \n",
       "2    RESP046  (32.84057112200048, -86.63186076199969)  \n",
       "3    RESP051  (32.84057112200048, -86.63186076199969)  \n",
       "4    RESP052  (32.84057112200048, -86.63186076199969)  \n",
       "\n",
       "[5 rows x 27 columns]"
      ]
     },
     "execution_count": 17,
     "metadata": {},
     "output_type": "execute_result"
    }
   ],
   "source": [
    "Heart_disease_df = pd.read_csv('../Resources/Behavioral_Risk_Factor_Surveillance_System__BRFSS__Prevalence_Data__2011_to_present_.csv')\n",
    "\n",
    "Heart_disease_df.head()"
   ]
  },
  {
   "cell_type": "code",
   "execution_count": 7,
   "id": "56b66767",
   "metadata": {},
   "outputs": [
    {
     "data": {
      "text/plain": [
       "Index(['Year', 'Locationabbr', 'Locationdesc', 'Class', 'Topic', 'Question',\n",
       "       'Response', 'Break_Out', 'Break_Out_Category', 'Sample_Size',\n",
       "       'Data_value', 'Confidence_limit_Low', 'Confidence_limit_High',\n",
       "       'Display_order', 'Data_value_unit', 'Data_value_type',\n",
       "       'Data_Value_Footnote_Symbol', 'Data_Value_Footnote', 'DataSource',\n",
       "       'ClassId', 'TopicId', 'LocationID', 'BreakoutID', 'BreakOutCategoryID',\n",
       "       'QuestionID', 'ResponseID', 'GeoLocation'],\n",
       "      dtype='object')"
      ]
     },
     "execution_count": 7,
     "metadata": {},
     "output_type": "execute_result"
    }
   ],
   "source": [
    "Heart_disease_df.columns"
   ]
  },
  {
   "cell_type": "code",
   "execution_count": 11,
   "id": "605ba36c",
   "metadata": {},
   "outputs": [],
   "source": [
    "Heart_disease_df['Topic'] = Heart_disease_df['Topic']*4"
   ]
  },
  {
   "cell_type": "code",
   "execution_count": 18,
   "id": "2ad75d52",
   "metadata": {},
   "outputs": [
    {
     "name": "stderr",
     "output_type": "stream",
     "text": [
      "C:\\Users\\Jm18443\\AppData\\Local\\Temp\\ipykernel_19520\\4111702930.py:1: UserWarning: \n",
      "\n",
      "`distplot` is a deprecated function and will be removed in seaborn v0.14.0.\n",
      "\n",
      "Please adapt your code to use either `displot` (a figure-level function with\n",
      "similar flexibility) or `histplot` (an axes-level function for histograms).\n",
      "\n",
      "For a guide to updating your code to use the new functions, please see\n",
      "https://gist.github.com/mwaskom/de44147ed2974457ad6372750bbe5751\n",
      "\n",
      "  sns.distplot(Heart_disease_df['Topic'].value_counts(), kde=False, color='red')\n"
     ]
    },
    {
     "data": {
      "text/plain": [
       "<Axes: xlabel='Topic'>"
      ]
     },
     "execution_count": 18,
     "metadata": {},
     "output_type": "execute_result"
    },
    {
     "data": {
      "image/png": "[encoded data removed]",
      "text/plain": [
       "<Figure size 640x480 with 1 Axes>"
      ]
     },
     "metadata": {},
     "output_type": "display_data"
    }
   ],
   "source": [
    "sns.distplot(Heart_disease_df['Topic'].value_counts(), kde=False, color='red')"
   ]
  },
  {
   "cell_type": "code",
   "execution_count": null,
   "id": "f1fa389d",
   "metadata": {},
   "outputs": [],
   "source": []
  }
 ],
 "metadata": {
  "kernelspec": {
   "display_name": "PythonData",
   "language": "python",
   "name": "pythondata"
  },
  "language_info": {
   "codemirror_mode": {
    "name": "ipython",
    "version": 3
   },
   "file_extension": ".py",
   "mimetype": "text/x-python",
   "name": "python",
   "nbconvert_exporter": "python",
   "pygments_lexer": "ipython3",
   "version": "3.10.2"
  }
 },
 "nbformat": 4,
 "nbformat_minor": 5
}
